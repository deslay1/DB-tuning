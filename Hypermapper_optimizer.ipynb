{
 "metadata": {
  "language_info": {
   "codemirror_mode": {
    "name": "ipython",
    "version": 3
   },
   "file_extension": ".py",
   "mimetype": "text/x-python",
   "name": "python",
   "nbconvert_exporter": "python",
   "pygments_lexer": "ipython3",
   "version": "3.8.8"
  },
  "orig_nbformat": 2,
  "kernelspec": {
   "name": "python388jvsc74a57bd0e1de7ed88a201865fdb82dbbd01d3691609a59a8e27658596d4f1e4c6930df0a",
   "display_name": "Python 3.8.8 64-bit ('tuner': conda)"
  }
 },
 "nbformat": 4,
 "nbformat_minor": 2,
 "cells": [
  {
   "cell_type": "code",
   "execution_count": 1,
   "metadata": {},
   "outputs": [],
   "source": [
    "import sys\n",
    "import os\n",
    "from Benchmark import RocksdbBenchmark\n",
    "from hypermapper import optimizer\n",
    "stdout = sys.stdout # Jupyter uses a special stdout and HyperMapper logging overwrites it. Save stdout to restore later\n"
   ]
  },
  {
   "cell_type": "code",
   "execution_count": 2,
   "metadata": {},
   "outputs": [],
   "source": [
    "def run_benchmark(knobs):\n",
    "    options = {}\n",
    "    bench = RocksdbBenchmark(bench_type='mix', options=options)\n",
    "    # knobs = dict((k, str(v)) for k, v in parameters.items())\n",
    "    bench.load_knob_configurations(knobs)\n",
    "    # bench.run_filling(fill_type='random',num_million=1, fill=True, options_file=True)\n",
    "    throughput = bench.run_benchmark(runs=1, num_million=50, fill=False, options_file=False, max_seconds=60, use_existing=False)\n",
    "    # return {'Throughput': (throughput, 0.0)}\n",
    "    return -int(throughput)"
   ]
  },
  {
   "cell_type": "code",
   "execution_count": 3,
   "metadata": {
    "tags": [
     "outputPrepend"
    ]
   },
   "outputs": [
    {
     "output_type": "stream",
     "name": "stdout",
     "text": [
      "r=16 --level0_slowdown_writes_trigger=128 --level0_stop_writes_trigger=256 --max_background_compactions=2 --max_background_flushes=6 --max_bytes_for_level_multiplier=8 --max_write_buffer_number=32 --min_write_buffer_number_to_merge=1 --write_buffer_size=1073741824\n",
      "RESULT: mixgraph     :       6.932 micros/op 144255 ops/sec;  127.2 MB/s ( Gets:7356444 Puts:1213656 Seek:86899 of 0 in 7443343 found)\n",
      "block_size,compaction_readahead_size,level0_file_num_compaction_trigger,level0_slowdown_writes_trigger,level0_stop_writes_trigger,max_background_compactions,max_background_flushes,max_bytes_for_level_multiplier,max_write_buffer_number,min_write_buffer_number_to_merge,write_buffer_size,Throughput,Timestamp\n",
      "1,80000,16,128,256,2,6,8,32,1,1073741824,-144255,1033657\n",
      "\n",
      "Starting optimization iteration 7\n",
      "Regression model on Throughput. Features names: ['block_size', 'compaction_readahead_size', 'level0_file_num_compaction_trigger', 'level0_slowdown_writes_trigger', 'level0_stop_writes_trigger', 'max_background_compactions', 'max_background_flushes', 'max_bytes_for_level_multiplier', 'max_write_buffer_number', 'min_write_buffer_number_to_merge', 'write_buffer_size'], feature importances: [0.017040355238291154, 0.0005518000071250513, 0.08640966810602474, 0.020157330960955566, 0.0, 0.003087950954308258, 9.46697136426773e-05, 0.0002656943484353999, 0.18210712813872576, 0.01736876917289291, 0.6729166333595985]\n",
      "sudo /home/osama_eldawebi/main/rocksdb/db_bench --benchmarks=\"mixgraph,stats\" -use_direct_io_for_flush_and_compaction=true -use_direct_reads=true -cache_size=268435456 -keyrange_dist_a=14.18 -keyrange_dist_b=-2.917 -keyrange_dist_c=0.0164 -keyrange_dist_d=-0.08082 -keyrange_num=30 -value_k=0.2615 -value_sigma=25.45 -iter_k=2.517 -iter_sigma=14.236 -mix_get_ratio=0.85 -mix_put_ratio=0.14 -mix_seek_ratio=0.01 -sine_mix_rate_interval_milliseconds=5000 -sine_a=1000 -sine_b=0.000000073 -sine_d=4500000 --perf_level=2 -reads=420000000 -num=50000000 -key_size=48 --statistics=1 --duration=60 --block_size=1 --compaction_readahead_size=160000 --level0_file_num_compaction_trigger=32 --level0_slowdown_writes_trigger=256 --level0_stop_writes_trigger=16 --max_background_compactions=2 --max_background_flushes=6 --max_bytes_for_level_multiplier=3 --max_write_buffer_number=128 --min_write_buffer_number_to_merge=8 --write_buffer_size=64\n",
      "RESULT: mixgraph     :      91.724 micros/op 10902 ops/sec;    6.7 MB/s ( Gets:556329 Puts:92040 Seek:6630 of 0 in 562959 found)\n",
      "block_size,compaction_readahead_size,level0_file_num_compaction_trigger,level0_slowdown_writes_trigger,level0_stop_writes_trigger,max_background_compactions,max_background_flushes,max_bytes_for_level_multiplier,max_write_buffer_number,min_write_buffer_number_to_merge,write_buffer_size,Throughput,Timestamp\n",
      "1,160000,32,256,16,2,6,3,128,8,64,-10902,1093900\n",
      "\n",
      "Starting optimization iteration 8\n",
      "Regression model on Throughput. Features names: ['block_size', 'compaction_readahead_size', 'level0_file_num_compaction_trigger', 'level0_slowdown_writes_trigger', 'level0_stop_writes_trigger', 'max_background_compactions', 'max_background_flushes', 'max_bytes_for_level_multiplier', 'max_write_buffer_number', 'min_write_buffer_number_to_merge', 'write_buffer_size'], feature importances: [0.038993340124338506, 0.006406300730048468, 0.0006047111905480626, 0.018318397294575853, 0.02331320575752728, 0.02988700063447252, 3.416572496644359e-05, 0.04234130573763278, 0.1557043820327075, 0.0, 0.6843971907731826]\n",
      "sudo /home/osama_eldawebi/main/rocksdb/db_bench --benchmarks=\"mixgraph,stats\" -use_direct_io_for_flush_and_compaction=true -use_direct_reads=true -cache_size=268435456 -keyrange_dist_a=14.18 -keyrange_dist_b=-2.917 -keyrange_dist_c=0.0164 -keyrange_dist_d=-0.08082 -keyrange_num=30 -value_k=0.2615 -value_sigma=25.45 -iter_k=2.517 -iter_sigma=14.236 -mix_get_ratio=0.85 -mix_put_ratio=0.14 -mix_seek_ratio=0.01 -sine_mix_rate_interval_milliseconds=5000 -sine_a=1000 -sine_b=0.000000073 -sine_d=4500000 --perf_level=2 -reads=420000000 -num=50000000 -key_size=48 --statistics=1 --duration=60 --block_size=4 --compaction_readahead_size=240000 --level0_file_num_compaction_trigger=8 --level0_slowdown_writes_trigger=32 --level0_stop_writes_trigger=4 --max_background_compactions=2 --max_background_flushes=10 --max_bytes_for_level_multiplier=1 --max_write_buffer_number=128 --min_write_buffer_number_to_merge=8 --write_buffer_size=1073741824\n",
      "RESULT: mixgraph     :       6.892 micros/op 145089 ops/sec;  127.8 MB/s ( Gets:7398944 Puts:1220639 Seek:87416 of 0 in 7486360 found)\n",
      "block_size,compaction_readahead_size,level0_file_num_compaction_trigger,level0_slowdown_writes_trigger,level0_stop_writes_trigger,max_background_compactions,max_background_flushes,max_bytes_for_level_multiplier,max_write_buffer_number,min_write_buffer_number_to_merge,write_buffer_size,Throughput,Timestamp\n",
      "4,240000,8,32,4,2,10,1,128,8,1073741824,-145089,1155735\n",
      "\n",
      "Starting optimization iteration 9\n",
      "Regression model on Throughput. Features names: ['block_size', 'compaction_readahead_size', 'level0_file_num_compaction_trigger', 'level0_slowdown_writes_trigger', 'level0_stop_writes_trigger', 'max_background_compactions', 'max_background_flushes', 'max_bytes_for_level_multiplier', 'max_write_buffer_number', 'min_write_buffer_number_to_merge', 'write_buffer_size'], feature importances: [0.03007607902789929, 0.0037888836970407904, 4.2880323738453826e-05, 0.017501462677775755, 0.0008780508835576026, 0.10697455498092509, 0.01758751331289917, 0.03864389284809557, 0.0837342330846999, 0.0, 0.7007724491633683]\n",
      "sudo /home/osama_eldawebi/main/rocksdb/db_bench --benchmarks=\"mixgraph,stats\" -use_direct_io_for_flush_and_compaction=true -use_direct_reads=true -cache_size=268435456 -keyrange_dist_a=14.18 -keyrange_dist_b=-2.917 -keyrange_dist_c=0.0164 -keyrange_dist_d=-0.08082 -keyrange_num=30 -value_k=0.2615 -value_sigma=25.45 -iter_k=2.517 -iter_sigma=14.236 -mix_get_ratio=0.85 -mix_put_ratio=0.14 -mix_seek_ratio=0.01 -sine_mix_rate_interval_milliseconds=5000 -sine_a=1000 -sine_b=0.000000073 -sine_d=4500000 --perf_level=2 -reads=420000000 -num=50000000 -key_size=48 --statistics=1 --duration=60 --block_size=64 --compaction_readahead_size=320000 --level0_file_num_compaction_trigger=256 --level0_slowdown_writes_trigger=256 --level0_stop_writes_trigger=1 --max_background_compactions=256 --max_background_flushes=6 --max_bytes_for_level_multiplier=1 --max_write_buffer_number=128 --min_write_buffer_number_to_merge=16 --write_buffer_size=1073741824\n",
      "RESULT: mixgraph     :       6.915 micros/op 144613 ops/sec;  127.5 MB/s ( Gets:7375122 Puts:1216763 Seek:87114 of 0 in 7462236 found)\n",
      "block_size,compaction_readahead_size,level0_file_num_compaction_trigger,level0_slowdown_writes_trigger,level0_stop_writes_trigger,max_background_compactions,max_background_flushes,max_bytes_for_level_multiplier,max_write_buffer_number,min_write_buffer_number_to_merge,write_buffer_size,Throughput,Timestamp\n",
      "64,320000,256,256,1,256,6,1,128,16,1073741824,-144613,1217629\n",
      "\n",
      "Starting optimization iteration 10\n",
      "Regression model on Throughput. Features names: ['block_size', 'compaction_readahead_size', 'level0_file_num_compaction_trigger', 'level0_slowdown_writes_trigger', 'level0_stop_writes_trigger', 'max_background_compactions', 'max_background_flushes', 'max_bytes_for_level_multiplier', 'max_write_buffer_number', 'min_write_buffer_number_to_merge', 'write_buffer_size'], feature importances: [0.018620919757884158, 0.014510400698568538, 0.0005330456846835595, 0.0022140019067939483, 3.6545741730769995e-05, 0.037981858571790025, 0.021323639603379643, 0.04728040955855907, 0.10438603341374948, 3.281850613444304e-06, 0.7531098632122474]\n",
      "sudo /home/osama_eldawebi/main/rocksdb/db_bench --benchmarks=\"mixgraph,stats\" -use_direct_io_for_flush_and_compaction=true -use_direct_reads=true -cache_size=268435456 -keyrange_dist_a=14.18 -keyrange_dist_b=-2.917 -keyrange_dist_c=0.0164 -keyrange_dist_d=-0.08082 -keyrange_num=30 -value_k=0.2615 -value_sigma=25.45 -iter_k=2.517 -iter_sigma=14.236 -mix_get_ratio=0.85 -mix_put_ratio=0.14 -mix_seek_ratio=0.01 -sine_mix_rate_interval_milliseconds=5000 -sine_a=1000 -sine_b=0.000000073 -sine_d=4500000 --perf_level=2 -reads=420000000 -num=50000000 -key_size=48 --statistics=1 --duration=60 --block_size=256 --compaction_readahead_size=160000 --level0_file_num_compaction_trigger=32 --level0_slowdown_writes_trigger=1024 --level0_stop_writes_trigger=512 --max_background_compactions=4 --max_background_flushes=7 --max_bytes_for_level_multiplier=0 --max_write_buffer_number=128 --min_write_buffer_number_to_merge=8 --write_buffer_size=1073741824\n",
      "RESULT: mixgraph     :       6.957 micros/op 143739 ops/sec;  126.7 MB/s ( Gets:7330087 Puts:1209364 Seek:86548 of 0 in 7416635 found)\n",
      "block_size,compaction_readahead_size,level0_file_num_compaction_trigger,level0_slowdown_writes_trigger,level0_stop_writes_trigger,max_background_compactions,max_background_flushes,max_bytes_for_level_multiplier,max_write_buffer_number,min_write_buffer_number_to_merge,write_buffer_size,Throughput,Timestamp\n",
      "256,160000,32,1024,512,4,7,0,128,8,1073741824,-143739,1279608\n",
      "\n",
      "Starting optimization iteration 11\n",
      "Regression model on Throughput. Features names: ['block_size', 'compaction_readahead_size', 'level0_file_num_compaction_trigger', 'level0_slowdown_writes_trigger', 'level0_stop_writes_trigger', 'max_background_compactions', 'max_background_flushes', 'max_bytes_for_level_multiplier', 'max_write_buffer_number', 'min_write_buffer_number_to_merge', 'write_buffer_size'], feature importances: [0.026648138089430604, 0.009010827397816992, 0.02178422203304917, 0.000805800310160898, 0.015832402533471363, 0.00377636092998333, 0.0009451535674822251, 3.3228126183893935e-05, 0.10051256393538799, 7.053195824643606e-06, 0.8206442498812088]\n",
      "sudo /home/osama_eldawebi/main/rocksdb/db_bench --benchmarks=\"mixgraph,stats\" -use_direct_io_for_flush_and_compaction=true -use_direct_reads=true -cache_size=268435456 -keyrange_dist_a=14.18 -keyrange_dist_b=-2.917 -keyrange_dist_c=0.0164 -keyrange_dist_d=-0.08082 -keyrange_num=30 -value_k=0.2615 -value_sigma=25.45 -iter_k=2.517 -iter_sigma=14.236 -mix_get_ratio=0.85 -mix_put_ratio=0.14 -mix_seek_ratio=0.01 -sine_mix_rate_interval_milliseconds=5000 -sine_a=1000 -sine_b=0.000000073 -sine_d=4500000 --perf_level=2 -reads=420000000 -num=50000000 -key_size=48 --statistics=1 --duration=60 --block_size=1 --compaction_readahead_size=240000 --level0_file_num_compaction_trigger=1 --level0_slowdown_writes_trigger=256 --level0_stop_writes_trigger=1024 --max_background_compactions=4 --max_background_flushes=6 --max_bytes_for_level_multiplier=0 --max_write_buffer_number=128 --min_write_buffer_number_to_merge=32 --write_buffer_size=1073741824\n",
      "RESULT: mixgraph     :       6.882 micros/op 145297 ops/sec;  127.9 MB/s ( Gets:7409114 Puts:1222357 Seek:87528 of 0 in 7496642 found)\n",
      "block_size,compaction_readahead_size,level0_file_num_compaction_trigger,level0_slowdown_writes_trigger,level0_stop_writes_trigger,max_background_compactions,max_background_flushes,max_bytes_for_level_multiplier,max_write_buffer_number,min_write_buffer_number_to_merge,write_buffer_size,Throughput,Timestamp\n",
      "1,240000,1,256,1024,4,6,0,128,32,1073741824,-145297,1341498\n",
      "\n",
      "Starting optimization iteration 12\n",
      "Regression model on Throughput. Features names: ['block_size', 'compaction_readahead_size', 'level0_file_num_compaction_trigger', 'level0_slowdown_writes_trigger', 'level0_stop_writes_trigger', 'max_background_compactions', 'max_background_flushes', 'max_bytes_for_level_multiplier', 'max_write_buffer_number', 'min_write_buffer_number_to_merge', 'write_buffer_size'], feature importances: [0.03269075224709968, 0.004346731724505205, 0.0, 0.0033397838727290434, 6.417104867842449e-06, 0.06085772223656534, 0.018809083763052535, 0.08681423844399916, 0.116179787239018, 1.2446226753640586e-05, 0.6769430371414096]\n",
      "sudo /home/osama_eldawebi/main/rocksdb/db_bench --benchmarks=\"mixgraph,stats\" -use_direct_io_for_flush_and_compaction=true -use_direct_reads=true -cache_size=268435456 -keyrange_dist_a=14.18 -keyrange_dist_b=-2.917 -keyrange_dist_c=0.0164 -keyrange_dist_d=-0.08082 -keyrange_num=30 -value_k=0.2615 -value_sigma=25.45 -iter_k=2.517 -iter_sigma=14.236 -mix_get_ratio=0.85 -mix_put_ratio=0.14 -mix_seek_ratio=0.01 -sine_mix_rate_interval_milliseconds=5000 -sine_a=1000 -sine_b=0.000000073 -sine_d=4500000 --perf_level=2 -reads=420000000 -num=50000000 -key_size=48 --statistics=1 --duration=60 --block_size=4096 --compaction_readahead_size=240000 --level0_file_num_compaction_trigger=128 --level0_slowdown_writes_trigger=32 --level0_stop_writes_trigger=1024 --max_background_compactions=2 --max_background_flushes=9 --max_bytes_for_level_multiplier=1 --max_write_buffer_number=128 --min_write_buffer_number_to_merge=32 --write_buffer_size=1073741824\n",
      "RESULT: mixgraph     :       6.892 micros/op 145100 ops/sec;  127.8 MB/s ( Gets:7399788 Puts:1220781 Seek:87430 of 0 in 7487218 found)\n",
      "block_size,compaction_readahead_size,level0_file_num_compaction_trigger,level0_slowdown_writes_trigger,level0_stop_writes_trigger,max_background_compactions,max_background_flushes,max_bytes_for_level_multiplier,max_write_buffer_number,min_write_buffer_number_to_merge,write_buffer_size,Throughput,Timestamp\n",
      "4096,240000,128,32,1024,2,9,1,128,32,1073741824,-145100,1403407\n",
      "\n",
      "Starting optimization iteration 13\n",
      "Regression model on Throughput. Features names: ['block_size', 'compaction_readahead_size', 'level0_file_num_compaction_trigger', 'level0_slowdown_writes_trigger', 'level0_stop_writes_trigger', 'max_background_compactions', 'max_background_flushes', 'max_bytes_for_level_multiplier', 'max_write_buffer_number', 'min_write_buffer_number_to_merge', 'write_buffer_size'], feature importances: [0.03128760306549559, 0.018068380809828446, 0.014178605437088782, 0.0023912645263140164, 0.012116446898472093, 0.001431586697779582, 6.989159781940234e-05, 0.0855736627073542, 0.1138698635291566, 2.0726674906103305e-05, 0.7209919680557852]\n",
      "sudo /home/osama_eldawebi/main/rocksdb/db_bench --benchmarks=\"mixgraph,stats\" -use_direct_io_for_flush_and_compaction=true -use_direct_reads=true -cache_size=268435456 -keyrange_dist_a=14.18 -keyrange_dist_b=-2.917 -keyrange_dist_c=0.0164 -keyrange_dist_d=-0.08082 -keyrange_num=30 -value_k=0.2615 -value_sigma=25.45 -iter_k=2.517 -iter_sigma=14.236 -mix_get_ratio=0.85 -mix_put_ratio=0.14 -mix_seek_ratio=0.01 -sine_mix_rate_interval_milliseconds=5000 -sine_a=1000 -sine_b=0.000000073 -sine_d=4500000 --perf_level=2 -reads=420000000 -num=50000000 -key_size=48 --statistics=1 --duration=60 --block_size=1024 --compaction_readahead_size=0 --level0_file_num_compaction_trigger=4 --level0_slowdown_writes_trigger=64 --level0_stop_writes_trigger=64 --max_background_compactions=256 --max_background_flushes=0 --max_bytes_for_level_multiplier=7 --max_write_buffer_number=8 --min_write_buffer_number_to_merge=4 --write_buffer_size=16384\n",
      "RESULT: mixgraph     :      56.905 micros/op 17573 ops/sec;   12.2 MB/s ( Gets:899329 Puts:148899 Seek:10771 of 0 in 910100 found)\n",
      "block_size,compaction_readahead_size,level0_file_num_compaction_trigger,level0_slowdown_writes_trigger,level0_stop_writes_trigger,max_background_compactions,max_background_flushes,max_bytes_for_level_multiplier,max_write_buffer_number,min_write_buffer_number_to_merge,write_buffer_size,Throughput,Timestamp\n",
      "1024,0,4,64,64,256,0,7,8,4,16384,-17573,1463829\n",
      "\n",
      "Starting optimization iteration 14\n",
      "Regression model on Throughput. Features names: ['block_size', 'compaction_readahead_size', 'level0_file_num_compaction_trigger', 'level0_slowdown_writes_trigger', 'level0_stop_writes_trigger', 'max_background_compactions', 'max_background_flushes', 'max_bytes_for_level_multiplier', 'max_write_buffer_number', 'min_write_buffer_number_to_merge', 'write_buffer_size'], feature importances: [0.003779623646091078, 0.01899685466250866, 0.000416152049072377, 0.020664057183036776, 0.01195484082301042, 0.07467885341604794, 0.049937267688367835, 0.12627375467772586, 0.17949409131348318, 6.083309630794803e-05, 0.513743671444348]\n",
      "sudo /home/osama_eldawebi/main/rocksdb/db_bench --benchmarks=\"mixgraph,stats\" -use_direct_io_for_flush_and_compaction=true -use_direct_reads=true -cache_size=268435456 -keyrange_dist_a=14.18 -keyrange_dist_b=-2.917 -keyrange_dist_c=0.0164 -keyrange_dist_d=-0.08082 -keyrange_num=30 -value_k=0.2615 -value_sigma=25.45 -iter_k=2.517 -iter_sigma=14.236 -mix_get_ratio=0.85 -mix_put_ratio=0.14 -mix_seek_ratio=0.01 -sine_mix_rate_interval_milliseconds=5000 -sine_a=1000 -sine_b=0.000000073 -sine_d=4500000 --perf_level=2 -reads=420000000 -num=50000000 -key_size=48 --statistics=1 --duration=60 --block_size=16 --compaction_readahead_size=280000 --level0_file_num_compaction_trigger=4 --level0_slowdown_writes_trigger=1024 --level0_stop_writes_trigger=1 --max_background_compactions=4 --max_background_flushes=1 --max_bytes_for_level_multiplier=5 --max_write_buffer_number=2 --min_write_buffer_number_to_merge=2 --write_buffer_size=1\n",
      "RESULT: mixgraph     :     220.958 micros/op 4525 ops/sec;    2.3 MB/s ( Gets:231878 Puts:38333 Seek:2788 of 0 in 234666 found)\n",
      "block_size,compaction_readahead_size,level0_file_num_compaction_trigger,level0_slowdown_writes_trigger,level0_stop_writes_trigger,max_background_compactions,max_background_flushes,max_bytes_for_level_multiplier,max_write_buffer_number,min_write_buffer_number_to_merge,write_buffer_size,Throughput,Timestamp\n",
      "16,280000,4,1024,1,4,1,5,2,2,1,-4525,1524298\n",
      "\n",
      "Starting optimization iteration 15\n",
      "Regression model on Throughput. Features names: ['block_size', 'compaction_readahead_size', 'level0_file_num_compaction_trigger', 'level0_slowdown_writes_trigger', 'level0_stop_writes_trigger', 'max_background_compactions', 'max_background_flushes', 'max_bytes_for_level_multiplier', 'max_write_buffer_number', 'min_write_buffer_number_to_merge', 'write_buffer_size'], feature importances: [0.026333850025964667, 0.022530585557421386, 0.0, 0.03610503350750973, 4.331987621351528e-06, 0.06536923496908752, 0.0005782117772300944, 0.10628371886951607, 0.1592002101620245, 2.0995292262234553e-05, 0.5835738278513625]\n",
      "sudo /home/osama_eldawebi/main/rocksdb/db_bench --benchmarks=\"mixgraph,stats\" -use_direct_io_for_flush_and_compaction=true -use_direct_reads=true -cache_size=268435456 -keyrange_dist_a=14.18 -keyrange_dist_b=-2.917 -keyrange_dist_c=0.0164 -keyrange_dist_d=-0.08082 -keyrange_num=30 -value_k=0.2615 -value_sigma=25.45 -iter_k=2.517 -iter_sigma=14.236 -mix_get_ratio=0.85 -mix_put_ratio=0.14 -mix_seek_ratio=0.01 -sine_mix_rate_interval_milliseconds=5000 -sine_a=1000 -sine_b=0.000000073 -sine_d=4500000 --perf_level=2 -reads=420000000 -num=50000000 -key_size=48 --statistics=1 --duration=60 --block_size=64 --compaction_readahead_size=80000 --level0_file_num_compaction_trigger=32 --level0_slowdown_writes_trigger=256 --level0_stop_writes_trigger=64 --max_background_compactions=256 --max_background_flushes=5 --max_bytes_for_level_multiplier=10 --max_write_buffer_number=64 --min_write_buffer_number_to_merge=8 --write_buffer_size=67108864\n",
      "RESULT: mixgraph     :       7.959 micros/op 125642 ops/sec;  109.5 MB/s ( Gets:6407468 Puts:1056918 Seek:75613 of 0 in 6483081 found)\n",
      "block_size,compaction_readahead_size,level0_file_num_compaction_trigger,level0_slowdown_writes_trigger,level0_stop_writes_trigger,max_background_compactions,max_background_flushes,max_bytes_for_level_multiplier,max_write_buffer_number,min_write_buffer_number_to_merge,write_buffer_size,Throughput,Timestamp\n",
      "64,80000,32,256,64,256,5,10,64,8,67108864,-125642,1584490\n",
      "\n",
      "End of Bayesian Optimization\n",
      "Best point found:\n",
      "block_size,compaction_readahead_size,level0_file_num_compaction_trigger,level0_slowdown_writes_trigger,level0_stop_writes_trigger,max_background_compactions,max_background_flushes,max_bytes_for_level_multiplier,max_write_buffer_number,min_write_buffer_number_to_merge,write_buffer_size,Throughput\n",
      "256,280000,64,1024,1024,4,6,1,128,32,1073741824,-145827\n",
      "\n",
      "End of HyperMapper\n"
     ]
    }
   ],
   "source": [
    "# Call HyperMapper\n",
    "optimizer.optimize(\"util/optimizer_scenario.json\", run_benchmark)\n",
    "sys.stdout = stdout"
   ]
  }
 ]
}